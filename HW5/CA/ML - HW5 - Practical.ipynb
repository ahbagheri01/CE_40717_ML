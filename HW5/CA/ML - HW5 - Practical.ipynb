{
 "cells": [
  {
   "cell_type": "markdown",
   "metadata": {},
   "source": [
    "Name:\n",
    "\n",
    "Student Number:\n"
   ]
  },
  {
   "cell_type": "code",
   "execution_count": 13,
   "metadata": {},
   "outputs": [
    {
     "name": "stdout",
     "output_type": "stream",
     "text": [
      "WARNING: pip is being invoked by an old script wrapper. This will fail in a future version of pip.\r\n",
      "Please see https://github.com/pypa/pip/issues/5599 for advice on fixing the underlying issue.\r\n",
      "To avoid this problem you can invoke Python with '-m pip' instead of running pip directly.\r\n",
      "\r\n",
      "Usage:   \r\n",
      "  pip <command> [options]\r\n",
      "\r\n",
      "no such option: --user\r\n"
     ]
    },
    {
     "ename": "ImportError",
     "evalue": "libGL.so.1: cannot open shared object file: No such file or directory",
     "output_type": "error",
     "traceback": [
      "\u001b[0;31m---------------------------------------------------------------------------\u001b[0m",
      "\u001b[0;31mImportError\u001b[0m                               Traceback (most recent call last)",
      "\u001b[0;32m<ipython-input-13-a9dc8bb20879>\u001b[0m in \u001b[0;36m<module>\u001b[0;34m\u001b[0m\n\u001b[1;32m      3\u001b[0m \u001b[0;32mimport\u001b[0m \u001b[0mmatplotlib\u001b[0m\u001b[0;34m.\u001b[0m\u001b[0mpyplot\u001b[0m \u001b[0;32mas\u001b[0m \u001b[0mplt\u001b[0m\u001b[0;34m\u001b[0m\u001b[0;34m\u001b[0m\u001b[0m\n\u001b[1;32m      4\u001b[0m \u001b[0;32mimport\u001b[0m \u001b[0mnumpy\u001b[0m \u001b[0;32mas\u001b[0m \u001b[0mnp\u001b[0m\u001b[0;34m\u001b[0m\u001b[0;34m\u001b[0m\u001b[0m\n\u001b[0;32m----> 5\u001b[0;31m \u001b[0;32mimport\u001b[0m \u001b[0mcv2\u001b[0m\u001b[0;34m\u001b[0m\u001b[0;34m\u001b[0m\u001b[0m\n\u001b[0m",
      "\u001b[0;31mImportError\u001b[0m: libGL.so.1: cannot open shared object file: No such file or directory"
     ]
    }
   ],
   "source": [
    "#dependencies\n",
    "import matplotlib.pyplot as plt\n",
    "import numpy as np\n",
    "import cv2"
   ]
  },
  {
   "cell_type": "code",
   "execution_count": 16,
   "metadata": {},
   "outputs": [],
   "source": [
    "#load the input image\n",
    "def load_img(image_name):\n",
    "    img = cv2.imread(image_name)\n",
    "    img = cv2.cvtColor(img, cv2.COLOR_RGB2BGR)\n",
    "    plt.imshow(img)\n",
    "    img = np.asarray(img, dtype=\"int32\")\n",
    "    image_pixels = np.reshape(img, (-1, img.shape[2]))\n",
    "    return img_matrix"
   ]
  },
  {
   "cell_type": "code",
   "execution_count": 18,
   "metadata": {},
   "outputs": [],
   "source": [
    "#write the name of your image here\n",
    "image_name = 'example.jpg'\n",
    "load_image(image_name)"
   ]
  },
  {
   "cell_type": "code",
   "execution_count": 19,
   "metadata": {},
   "outputs": [],
   "source": [
    "#determine number of desired classes here:\n",
    "number_of_classes = 3"
   ]
  },
  {
   "cell_type": "code",
   "execution_count": 20,
   "metadata": {},
   "outputs": [],
   "source": [
    "#Color each segment of your image. Add your desired colors in RGB format here, as an example:\n",
    "#here number of desired classes for image segmentation is 3\n",
    "colors = [\n",
    "        (255, 0, 0),    # red\n",
    "        (0, 255, 0),    # green\n",
    "        (0, 0, 255),    # blue\n",
    "        # ...\n",
    "    ]"
   ]
  },
  {
   "cell_type": "code",
   "execution_count": 21,
   "metadata": {},
   "outputs": [],
   "source": [
    "#for better results, do the initializations with Kmeans \n",
    "def kmeans(number_of_classes, image_pixels):\n",
    "\n",
    "    #your code here\n",
    "    \n",
    "    return initial_mus, initial_priors, initial_covs"
   ]
  },
  {
   "cell_type": "code",
   "execution_count": 22,
   "metadata": {},
   "outputs": [],
   "source": [
    "#for better results, observe the image histogram\n",
    "def get_img_histogram(image_pixels):\n",
    "\n",
    "    #your code here\n",
    "    \n",
    "    return number_of_classes, initial_mus, initial_priors, initial_covs"
   ]
  },
  {
   "cell_type": "code",
   "execution_count": 23,
   "metadata": {},
   "outputs": [],
   "source": [
    "class GMM:\n",
    "    \n",
    "    def __init__(self, number_of_classes, initial_mu_s, initial_sigma_s, initial_priors):\n",
    "        self.ncomp = ncomp\n",
    "        self.mu_s = np.asarray(initial_mu_s)\n",
    "        self.sigma_s = np.asarray(initial_sigma_s)\n",
    "        self.priors = np.asarray(initial_priors)\n",
    "    \n",
    "    \n",
    "    # Write E step here\n",
    "    def inference(self, datas):\n",
    "        \n",
    "        #your code here\n",
    "        \n",
    "        pass\n",
    "        \n",
    "        \n",
    "    # Write M step here\n",
    "    def update(self, datas, beliefs):\n",
    "        \n",
    "        #your code here\n",
    "        \n",
    "        pass\n",
    "        \n",
    "        "
   ]
  },
  {
   "cell_type": "code",
   "execution_count": 24,
   "metadata": {},
   "outputs": [],
   "source": [
    "#write your main function here\n",
    "#use of kmeans or histogram of the image for better initialization is optinal\n",
    "#call the GMM functions here\n"
   ]
  },
  {
   "cell_type": "code",
   "execution_count": 27,
   "metadata": {},
   "outputs": [],
   "source": [
    "#show and save your results\n",
    "#let the final image variable be clustered_img\n",
    "def save_img(clustered_img):\n",
    "    plt.imshow(clustered_img)\n",
    "    final_img = cv2.cvtColor(clustered_img, cv2.COLOR_RGB2BGR)\n",
    "    cv2.imwrite(\"result.jpg\", final_img)"
   ]
  },
  {
   "cell_type": "code",
   "execution_count": 29,
   "metadata": {},
   "outputs": [],
   "source": [
    "save_img(clustered_img)"
   ]
  }
 ],
 "metadata": {
  "kernelspec": {
   "display_name": "Python 3",
   "language": "python",
   "name": "python3"
  },
  "language_info": {
   "codemirror_mode": {
    "name": "ipython",
    "version": 3
   },
   "file_extension": ".py",
   "mimetype": "text/x-python",
   "name": "python",
   "nbconvert_exporter": "python",
   "pygments_lexer": "ipython3",
   "version": "3.7.3"
  }
 },
 "nbformat": 4,
 "nbformat_minor": 2
}
