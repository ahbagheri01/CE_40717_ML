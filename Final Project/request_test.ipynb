{
 "cells": [
  {
   "cell_type": "code",
   "execution_count": 1,
   "id": "7a5ff943",
   "metadata": {},
   "outputs": [
    {
     "name": "stdout",
     "output_type": "stream",
     "text": [
      "Overwriting request_test.py\n"
     ]
    }
   ],
   "source": [
    "%%writefile request_test.py\n",
    "import pandas as pd\n",
    "import Preprocess as ps\n",
    "import pandas as pd\n",
    "import requests\n",
    "import argparse\n",
    "import torch\n",
    "from torch import nn\n",
    "import pandas as pd\n",
    "import sklearn\n",
    "import numpy as np\n",
    "from sklearn.utils import shuffle\n",
    "import tqdm\n",
    "from sklearn.metrics import confusion_matrix\n",
    "import seaborn as sn\n",
    "import matplotlib.pyplot as plt\n",
    "from sklearn.model_selection import train_test_split\n",
    "from collections import Counter\n",
    "from torch.utils.data import DataLoader, TensorDataset\n",
    "\n",
    "def visualize_result(y_true,y_pred):\n",
    "  cm = confusion_matrix(y_true, y_pred)\n",
    "  df_cm = pd.DataFrame(cm, range(2), range(2))\n",
    "  plt.figure(figsize=(10,7))\n",
    "  sn.set(font_scale=1) \n",
    "  sn.heatmap(df_cm, annot=True, annot_kws={\"size\": 20},fmt=\"d\",cmap=\"YlGnBu\") # font size\n",
    "  from sklearn.metrics import classification_report\n",
    "  from sklearn.metrics import f1_score,recall_score,precision_score\n",
    "  target_names = ['class 0', 'class 1']\n",
    "  print(\"f1_score \"+\" is :{}%\".format(f1_score(y_true=y_true , y_pred= y_pred)))\n",
    "  print(\"recall_score \"+\" is :{}%\".format(recall_score(y_true=y_true , y_pred= y_pred)))\n",
    "  print(\"precision_score \"+\" is :{}%\".format(precision_score(y_true=y_true , y_pred= y_pred)))\n",
    "  print(classification_report(y_true, y_pred, target_names=target_names))\n",
    "    \n",
    "host = '127.0.0.1'\n",
    "\n",
    "port = 8080\n",
    "\n",
    "url = f'http://{host}:{port}/invocations'\n",
    "\n",
    "headers = {\n",
    "    'Content-Type': 'application/json',\n",
    "}\n",
    "\n",
    "data = pd.read_csv('PreModule/datasets/train_dataset.csv')\n",
    "d = data.to_numpy()\n",
    "for i in range(20):\n",
    "    d = shuffle(d, random_state=i)\n",
    "test_data = pd.DataFrame()\n",
    "test_data[data.columns] = d[1:20000]\n",
    "target = test_data[\"Sale\"].to_numpy()\n",
    "\n",
    "http_data = test_data.to_json(orient='split')\n",
    "\n",
    "r = requests.post(url=url, headers=headers, data=http_data)\n",
    "predict = r.text\n",
    "predict = predict.replace(\"[\",\"\")\n",
    "predict = predict.replace(\"]\",\"\")\n",
    "l = predict.split(\",\")\n",
    "pred = []\n",
    "for ind in l:\n",
    "    pred.append(int(ind))\n",
    "visualize_result(target.astype(int),pred)"
   ]
  }
 ],
 "metadata": {
  "kernelspec": {
   "display_name": "Python 3 (ipykernel)",
   "language": "python",
   "name": "python3"
  },
  "language_info": {
   "codemirror_mode": {
    "name": "ipython",
    "version": 3
   },
   "file_extension": ".py",
   "mimetype": "text/x-python",
   "name": "python",
   "nbconvert_exporter": "python",
   "pygments_lexer": "ipython3",
   "version": "3.9.7"
  }
 },
 "nbformat": 4,
 "nbformat_minor": 5
}
