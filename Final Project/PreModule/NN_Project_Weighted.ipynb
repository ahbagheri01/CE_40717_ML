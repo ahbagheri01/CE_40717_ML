{
 "cells": [
  {
   "cell_type": "code",
   "execution_count": 1,
   "metadata": {
    "id": "mdcKnokUdcB3"
   },
   "outputs": [],
   "source": [
    "import torch\n",
    "from torch import nn\n",
    "import pandas as pd\n",
    "import sklearn\n",
    "import numpy as np"
   ]
  },
  {
   "cell_type": "code",
   "execution_count": 2,
   "metadata": {
    "id": "K2qSQblxdgnP"
   },
   "outputs": [],
   "source": [
    "\n",
    "s_nn = nn.Sequential(\n",
    "        nn.Linear(18,128),\n",
    "        nn.LeakyReLU(),\n",
    "        nn.Linear(128,128),\n",
    "        nn.LeakyReLU(),\n",
    "        nn.Linear(128,64),\n",
    "        nn.LeakyReLU(),\n",
    "        nn.Linear(64,32),\n",
    "        nn.LeakyReLU(),\n",
    "        nn.Linear(32,16),\n",
    "        nn.LeakyReLU(),\n",
    "        nn.Linear(16,8),\n",
    "        nn.Linear(8,2),\n",
    "        nn.LeakyReLU(),\n",
    "\n",
    "    )"
   ]
  },
  {
   "cell_type": "code",
   "execution_count": 3,
   "metadata": {
    "id": "bWTi8ee07kkn"
   },
   "outputs": [],
   "source": [
    "def binary_acc(y_pred, y_test):\n",
    "    y_pred_tag = torch.round(y_pred)\n",
    "\n",
    "    correct_results_sum = (y_pred_tag == y_test).sum().float()\n",
    "    acc = correct_results_sum/y_test.shape[0]\n",
    "    acc = torch.round(acc * 100)\n",
    "    \n",
    "    return acc.item()"
   ]
  },
  {
   "cell_type": "code",
   "execution_count": 4,
   "metadata": {
    "id": "6dFjXX-gf9SV"
   },
   "outputs": [],
   "source": [
    "#data = pd.read_csv('/content/ML_Project/datasets/EDA.csv')\n",
    "data = pd.read_csv('datasets/EDA.csv')\n",
    "data = data.iloc[: , 1:]"
   ]
  },
  {
   "cell_type": "code",
   "execution_count": 5,
   "metadata": {
    "id": "f-BekaJjgfYT"
   },
   "outputs": [],
   "source": [
    "df = data"
   ]
  },
  {
   "cell_type": "code",
   "execution_count": 6,
   "metadata": {
    "id": "CC-GqwlNgzWr"
   },
   "outputs": [],
   "source": [
    "df = df.drop(columns = [\"SalesAmountInEuro\",\"product_price\",\"time_delay_for_conversion\",\"click_timestamp\",\"day\",\"day_time\",\"user_id\",\"partner_id\",\"product_id\",\"product_title\"])"
   ]
  },
  {
   "cell_type": "code",
   "execution_count": 7,
   "metadata": {
    "colab": {
     "base_uri": "https://localhost:8080/",
     "height": 270
    },
    "id": "a7y1226Hg4rT",
    "outputId": "35136154-60db-4fd7-eda2-802994d4763a"
   },
   "outputs": [
    {
     "data": {
      "text/html": [
       "<div>\n",
       "<style scoped>\n",
       "    .dataframe tbody tr th:only-of-type {\n",
       "        vertical-align: middle;\n",
       "    }\n",
       "\n",
       "    .dataframe tbody tr th {\n",
       "        vertical-align: top;\n",
       "    }\n",
       "\n",
       "    .dataframe thead th {\n",
       "        text-align: right;\n",
       "    }\n",
       "</style>\n",
       "<table border=\"1\" class=\"dataframe\">\n",
       "  <thead>\n",
       "    <tr style=\"text-align: right;\">\n",
       "      <th></th>\n",
       "      <th>Sale</th>\n",
       "      <th>nb_clicks_1week</th>\n",
       "      <th>product_age_group</th>\n",
       "      <th>device_type</th>\n",
       "      <th>audience_id</th>\n",
       "      <th>product_gender</th>\n",
       "      <th>product_brand</th>\n",
       "      <th>product_category(1)</th>\n",
       "      <th>product_category(2)</th>\n",
       "      <th>product_category(3)</th>\n",
       "      <th>product_category(4)</th>\n",
       "      <th>product_category(5)</th>\n",
       "      <th>product_category(6)</th>\n",
       "      <th>product_country</th>\n",
       "      <th>day_time_category</th>\n",
       "      <th>tree_encode</th>\n",
       "      <th>category_encode</th>\n",
       "      <th>nb_clicks_1week_category</th>\n",
       "      <th>product_price_category</th>\n",
       "    </tr>\n",
       "  </thead>\n",
       "  <tbody>\n",
       "    <tr>\n",
       "      <th>0</th>\n",
       "      <td>0.0</td>\n",
       "      <td>0.0</td>\n",
       "      <td>0</td>\n",
       "      <td>3</td>\n",
       "      <td>0</td>\n",
       "      <td>0</td>\n",
       "      <td>0</td>\n",
       "      <td>22</td>\n",
       "      <td>145</td>\n",
       "      <td>699</td>\n",
       "      <td>910</td>\n",
       "      <td>442</td>\n",
       "      <td>89</td>\n",
       "      <td>3</td>\n",
       "      <td>5</td>\n",
       "      <td>6</td>\n",
       "      <td>63</td>\n",
       "      <td>0</td>\n",
       "      <td>0</td>\n",
       "    </tr>\n",
       "    <tr>\n",
       "      <th>1</th>\n",
       "      <td>0.0</td>\n",
       "      <td>0.0</td>\n",
       "      <td>0</td>\n",
       "      <td>3</td>\n",
       "      <td>0</td>\n",
       "      <td>0</td>\n",
       "      <td>0</td>\n",
       "      <td>22</td>\n",
       "      <td>145</td>\n",
       "      <td>699</td>\n",
       "      <td>910</td>\n",
       "      <td>442</td>\n",
       "      <td>89</td>\n",
       "      <td>3</td>\n",
       "      <td>2</td>\n",
       "      <td>6</td>\n",
       "      <td>63</td>\n",
       "      <td>0</td>\n",
       "      <td>0</td>\n",
       "    </tr>\n",
       "    <tr>\n",
       "      <th>2</th>\n",
       "      <td>0.0</td>\n",
       "      <td>0.0</td>\n",
       "      <td>1</td>\n",
       "      <td>1</td>\n",
       "      <td>0</td>\n",
       "      <td>1</td>\n",
       "      <td>1</td>\n",
       "      <td>1</td>\n",
       "      <td>1</td>\n",
       "      <td>699</td>\n",
       "      <td>910</td>\n",
       "      <td>442</td>\n",
       "      <td>89</td>\n",
       "      <td>1</td>\n",
       "      <td>17</td>\n",
       "      <td>12</td>\n",
       "      <td>63</td>\n",
       "      <td>0</td>\n",
       "      <td>0</td>\n",
       "    </tr>\n",
       "    <tr>\n",
       "      <th>3</th>\n",
       "      <td>0.0</td>\n",
       "      <td>0.0</td>\n",
       "      <td>0</td>\n",
       "      <td>2</td>\n",
       "      <td>0</td>\n",
       "      <td>0</td>\n",
       "      <td>0</td>\n",
       "      <td>22</td>\n",
       "      <td>145</td>\n",
       "      <td>699</td>\n",
       "      <td>910</td>\n",
       "      <td>442</td>\n",
       "      <td>89</td>\n",
       "      <td>3</td>\n",
       "      <td>21</td>\n",
       "      <td>6</td>\n",
       "      <td>63</td>\n",
       "      <td>0</td>\n",
       "      <td>0</td>\n",
       "    </tr>\n",
       "    <tr>\n",
       "      <th>4</th>\n",
       "      <td>0.0</td>\n",
       "      <td>2.0</td>\n",
       "      <td>1</td>\n",
       "      <td>3</td>\n",
       "      <td>0</td>\n",
       "      <td>2</td>\n",
       "      <td>2</td>\n",
       "      <td>2</td>\n",
       "      <td>2</td>\n",
       "      <td>1</td>\n",
       "      <td>1</td>\n",
       "      <td>442</td>\n",
       "      <td>89</td>\n",
       "      <td>2</td>\n",
       "      <td>21</td>\n",
       "      <td>18</td>\n",
       "      <td>63</td>\n",
       "      <td>2</td>\n",
       "      <td>0</td>\n",
       "    </tr>\n",
       "  </tbody>\n",
       "</table>\n",
       "</div>"
      ],
      "text/plain": [
       "   Sale  nb_clicks_1week  product_age_group  device_type  audience_id  \\\n",
       "0   0.0              0.0                  0            3            0   \n",
       "1   0.0              0.0                  0            3            0   \n",
       "2   0.0              0.0                  1            1            0   \n",
       "3   0.0              0.0                  0            2            0   \n",
       "4   0.0              2.0                  1            3            0   \n",
       "\n",
       "   product_gender  product_brand  product_category(1)  product_category(2)  \\\n",
       "0               0              0                   22                  145   \n",
       "1               0              0                   22                  145   \n",
       "2               1              1                    1                    1   \n",
       "3               0              0                   22                  145   \n",
       "4               2              2                    2                    2   \n",
       "\n",
       "   product_category(3)  product_category(4)  product_category(5)  \\\n",
       "0                  699                  910                  442   \n",
       "1                  699                  910                  442   \n",
       "2                  699                  910                  442   \n",
       "3                  699                  910                  442   \n",
       "4                    1                    1                  442   \n",
       "\n",
       "   product_category(6)  product_country  day_time_category  tree_encode  \\\n",
       "0                   89                3                  5            6   \n",
       "1                   89                3                  2            6   \n",
       "2                   89                1                 17           12   \n",
       "3                   89                3                 21            6   \n",
       "4                   89                2                 21           18   \n",
       "\n",
       "   category_encode  nb_clicks_1week_category  product_price_category  \n",
       "0               63                         0                       0  \n",
       "1               63                         0                       0  \n",
       "2               63                         0                       0  \n",
       "3               63                         0                       0  \n",
       "4               63                         2                       0  "
      ]
     },
     "execution_count": 7,
     "metadata": {},
     "output_type": "execute_result"
    }
   ],
   "source": [
    "df.head(5)"
   ]
  },
  {
   "cell_type": "code",
   "execution_count": 8,
   "metadata": {
    "colab": {
     "base_uri": "https://localhost:8080/"
    },
    "id": "BPDCStSUg7r7",
    "outputId": "ec5d7425-7d15-44dc-873a-1bdb6602d4d1"
   },
   "outputs": [
    {
     "data": {
      "text/plain": [
       "(100000,)"
      ]
     },
     "execution_count": 8,
     "metadata": {},
     "output_type": "execute_result"
    }
   ],
   "source": [
    "from sklearn import preprocessing\n",
    "y = df['Sale'].to_numpy()\n",
    "X = df.drop(['Sale'], axis=1).to_numpy()\n",
    "# min_max_scaler = preprocessing.MinMaxScaler()\n",
    "# X = min_max_scaler.fit_transform(X)\n",
    "y.shape"
   ]
  },
  {
   "cell_type": "code",
   "execution_count": 9,
   "metadata": {
    "id": "ZGe02eWjvGHl"
   },
   "outputs": [],
   "source": [
    "from sklearn.model_selection import train_test_split\n",
    "\n",
    "x_train,x_test,y_train,y_test= train_test_split(X,\n",
    "                                                y,\n",
    "                                                test_size=0.25,\n",
    "                                                random_state=42,\n",
    "                                                shuffle=True)\n"
   ]
  },
  {
   "cell_type": "code",
   "execution_count": 10,
   "metadata": {
    "colab": {
     "base_uri": "https://localhost:8080/"
    },
    "id": "OTo3-_y719gY",
    "outputId": "0be37ef5-b12f-4143-b9f8-e3f06584fc3a"
   },
   "outputs": [
    {
     "name": "stdout",
     "output_type": "stream",
     "text": [
      "(75000, 18)\n"
     ]
    }
   ],
   "source": [
    "print(x_train.shape)"
   ]
  },
  {
   "cell_type": "code",
   "execution_count": 11,
   "metadata": {
    "colab": {
     "base_uri": "https://localhost:8080/"
    },
    "id": "RwTDscRwvccV",
    "outputId": "618b0fcb-d54f-4857-a8c1-29e27fef861c"
   },
   "outputs": [
    {
     "name": "stdout",
     "output_type": "stream",
     "text": [
      "Counter({0.0: 64699, 1.0: 10301})\n",
      "[64699 10301]\n",
      "[1.54561894e-05 9.70779536e-05]\n"
     ]
    }
   ],
   "source": [
    "from collections import Counter\n",
    "count=Counter(y_train)\n",
    "print(count)\n",
    "class_count=np.array([count[0],count[1]])\n",
    "print(class_count)\n",
    "weight=1./class_count\n",
    "print(weight)\n",
    "samples_weight = np.array([weight[int(t)] for t in y_train])\n",
    "samples_weight = torch.from_numpy(samples_weight)"
   ]
  },
  {
   "cell_type": "code",
   "execution_count": 12,
   "metadata": {
    "id": "Pk3w2GuMyEPs"
   },
   "outputs": [],
   "source": [
    "sampler = torch.utils.data.sampler.WeightedRandomSampler(samples_weight, len(samples_weight))"
   ]
  },
  {
   "cell_type": "code",
   "execution_count": 13,
   "metadata": {
    "id": "lj_TFmWVzRu2"
   },
   "outputs": [],
   "source": [
    "from torch.utils.data import DataLoader, TensorDataset\n",
    "\n",
    "train_subset = torch.utils.data.TensorDataset((torch.unsqueeze(torch.Tensor(x_train),1)), torch.Tensor(y_train))\n",
    "val_subset = torch.utils.data.TensorDataset((torch.unsqueeze(torch.Tensor(x_test),1)), torch.LongTensor(y_test))"
   ]
  },
  {
   "cell_type": "code",
   "execution_count": 14,
   "metadata": {
    "id": "bXO2al64klmG"
   },
   "outputs": [],
   "source": [
    "\n",
    "# dataset = TensorDataset(torch.unsqueeze(torch.Tensor(X),1),torch.Tensor(y))\n",
    "# train_subset, val_subset = torch.utils.data.random_split(\n",
    "#         dataset, [60000, 40000])"
   ]
  },
  {
   "cell_type": "code",
   "execution_count": 15,
   "metadata": {
    "colab": {
     "base_uri": "https://localhost:8080/"
    },
    "id": "8WB3OBlKhW-q",
    "outputId": "bda19ed6-c3c7-4561-a4b0-3ecacdab90d0"
   },
   "outputs": [
    {
     "name": "stdout",
     "output_type": "stream",
     "text": [
      "False\n"
     ]
    }
   ],
   "source": [
    "\n",
    "\n",
    "if torch.cuda.is_available():\n",
    "    device = torch.device('cuda')\n",
    "else:\n",
    "    device = torch.device('cpu')\n",
    "s_nn.to(device)\n",
    "print(torch.cuda.is_available())\n",
    "\n",
    "loss_function = nn.CrossEntropyLoss()\n",
    "\n",
    "optimizer = torch.optim.SGD(s_nn.parameters(), lr=0.01, momentum=0.9)\n",
    "scheduler = torch.optim.lr_scheduler.StepLR(optimizer, step_size=30, gamma=0.1)\n",
    "\n",
    "\n",
    "\n",
    "BATCH_SIZE = 128\n",
    "NUMBER_OF_EPOCHS = 20\n",
    "train_loader = DataLoader(dataset=train_subset, batch_size=BATCH_SIZE, sampler = sampler)\n",
    "val_loader = DataLoader(dataset=val_subset, shuffle=False, batch_size=BATCH_SIZE)"
   ]
  },
  {
   "cell_type": "code",
   "execution_count": 16,
   "metadata": {
    "colab": {
     "base_uri": "https://localhost:8080/"
    },
    "id": "z8cutrwJjz1n",
    "outputId": "267ee6fa-c7be-4fbf-f125-de139a1608f5"
   },
   "outputs": [
    {
     "name": "stdout",
     "output_type": "stream",
     "text": [
      "0.8652366914510727\n",
      "validation accuracy : 13.468\n",
      "0.8619589856942494\n",
      "validation accuracy : 59.86\n",
      "0.8572608842611313\n",
      "validation accuracy : 63.959999999999994\n",
      "0.8537217051664988\n",
      "validation accuracy : 63.512\n",
      "0.8497953368743261\n",
      "validation accuracy : 33.408\n",
      "0.8484210662603379\n",
      "validation accuracy : 58.748\n",
      "0.8470488877058029\n",
      "validation accuracy : 70.952\n",
      "0.8462930446863175\n",
      "validation accuracy : 64.89200000000001\n",
      "0.8429094798008601\n",
      "validation accuracy : 67.676\n",
      "0.8406065933624903\n",
      "validation accuracy : 68.22399999999999\n",
      "0.8405349234104157\n",
      "validation accuracy : 55.584\n",
      "0.841249366402626\n",
      "validation accuracy : 69.092\n",
      "0.838599046754837\n",
      "validation accuracy : 35.276\n",
      "0.8386789299567541\n",
      "validation accuracy : 65.92\n",
      "0.8392666756073633\n",
      "validation accuracy : 61.06399999999999\n",
      "0.8485668324947357\n",
      "validation accuracy : 70.648\n",
      "0.8419020616054534\n",
      "validation accuracy : 70.04\n",
      "0.8375922733306885\n",
      "validation accuracy : 71.336\n",
      "0.8366739007472992\n",
      "validation accuracy : 63.856\n",
      "0.8365195874611536\n",
      "validation accuracy : 66.044\n"
     ]
    }
   ],
   "source": [
    "from statistics import mean\n",
    "all_train_losses = []\n",
    "all_train_accuracy = []\n",
    "all_val_losses = []\n",
    "all_val_accuracy = []\n",
    "for epoch in range(NUMBER_OF_EPOCHS):\n",
    "  # training\n",
    "  epoch_loss = 0\n",
    "  acc_list = []\n",
    "  s_nn.train()\n",
    "  for i , (images , labels) in enumerate (train_loader):\n",
    "    images , labels = images.to(device) , labels.to(device,dtype = torch.long)\n",
    "    optimizer.zero_grad()\n",
    "    outputs = s_nn(images)\n",
    "    outputs = outputs.squeeze(1)\n",
    "    loss = loss_function (outputs , labels)\n",
    "    loss.backward()\n",
    "    optimizer.step()\n",
    "    # calculate accuracy\n",
    "    epoch_loss += outputs.shape[0] * loss.item()\n",
    "    total = labels.size(0)\n",
    "    predicted = torch.max(outputs.data,1)[1]\n",
    "    correct = (predicted == labels).sum().item()\n",
    "    acc_list.append(correct/total)\n",
    "  all_train_losses.append(epoch_loss/60000)\n",
    "  print(epoch_loss/60000)\n",
    "  all_train_accuracy.append(mean(acc_list))\n",
    "  scheduler.step()\n",
    "  # evaluation on validation data\n",
    "  loss_list = []\n",
    "  s_nn.eval() \n",
    "  with torch.no_grad():\n",
    "    corr = 0\n",
    "    tot = 0\n",
    "    for j,(images , labels) in enumerate (val_loader):\n",
    "      images , labels = images.to(device) , labels.to(device,dtype = torch.long)\n",
    "      out = s_nn(images)\n",
    "      out = out.squeeze(1).squeeze(1)\n",
    "      # labels = labels.unsqueeze(1)\n",
    "      loss_list.append(loss_function (out , labels).item())\n",
    "      tot += labels.size(0)\n",
    "      predicts = torch.max(out.data,1)[1]\n",
    "      corr += (predicts == labels).sum().item()\n",
    "    all_val_accuracy.append(corr/tot)\n",
    "    all_val_losses.append(mean(loss_list))\n",
    "    print(\"validation accuracy : \"+str((corr/tot)*100))"
   ]
  },
  {
   "cell_type": "code",
   "execution_count": 21,
   "metadata": {
    "id": "XphVno4ybPfK"
   },
   "outputs": [],
   "source": [
    "s_nn.eval()\n",
    "xt = torch.Tensor(x_test)\n",
    "xt = xt.to(device)\n",
    "\n",
    "t = s_nn(xt)"
   ]
  },
  {
   "cell_type": "code",
   "execution_count": 18,
   "metadata": {
    "colab": {
     "base_uri": "https://localhost:8080/"
    },
    "id": "4J8MI9r0drEW",
    "outputId": "5878f76d-2cac-49e5-c85c-8dc1d65ea43a"
   },
   "outputs": [
    {
     "data": {
      "text/plain": [
       "torch.Size([25000, 2])"
      ]
     },
     "execution_count": 18,
     "metadata": {},
     "output_type": "execute_result"
    }
   ],
   "source": [
    "t.shape"
   ]
  },
  {
   "cell_type": "code",
   "execution_count": 19,
   "metadata": {
    "id": "C_K536Fpd29b"
   },
   "outputs": [],
   "source": [
    "predicted = torch.max(t.data,1)[1]"
   ]
  },
  {
   "cell_type": "code",
   "execution_count": 23,
   "metadata": {
    "colab": {
     "base_uri": "https://localhost:8080/"
    },
    "id": "APyZs16Wd_ja",
    "outputId": "cb697a95-f64c-482e-bd55-c7843ad2a586"
   },
   "outputs": [
    {
     "name": "stdout",
     "output_type": "stream",
     "text": [
      "0.26393826411167953\n",
      "0.4529761904761905\n",
      "0.66044\n"
     ]
    }
   ],
   "source": [
    "from sklearn.metrics import f1_score, confusion_matrix, precision_score, recall_score, accuracy_score\n",
    "confusion_matrix(predicted.cpu(), y_test)\n",
    "print(f1_score(predicted.cpu(), y_test))\n",
    "print(precision_score(predicted.cpu(), y_test))\n",
    "print(accuracy_score(predicted.cpu(), y_test))\n",
    "\n"
   ]
  }
 ],
 "metadata": {
  "accelerator": "GPU",
  "colab": {
   "collapsed_sections": [],
   "name": "NN_Project_Weighted.ipynb",
   "provenance": []
  },
  "kernelspec": {
   "display_name": "Python 3 (ipykernel)",
   "language": "python",
   "name": "python3"
  },
  "language_info": {
   "codemirror_mode": {
    "name": "ipython",
    "version": 3
   },
   "file_extension": ".py",
   "mimetype": "text/x-python",
   "name": "python",
   "nbconvert_exporter": "python",
   "pygments_lexer": "ipython3",
   "version": "3.9.7"
  }
 },
 "nbformat": 4,
 "nbformat_minor": 1
}
